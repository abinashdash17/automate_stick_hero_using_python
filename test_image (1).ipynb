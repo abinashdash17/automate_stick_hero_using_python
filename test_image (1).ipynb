{
 "cells": [
  {
   "cell_type": "code",
   "execution_count": 2,
   "metadata": {},
   "outputs": [],
   "source": [
    "import numpy\n",
    "from PIL import Image"
   ]
  },
  {
   "cell_type": "code",
   "execution_count": 21,
   "metadata": {},
   "outputs": [],
   "source": [
    "image = Image.open('screen.png')\n",
    "image = numpy.array(image,dtype=numpy.uint8)"
   ]
  },
  {
   "cell_type": "code",
   "execution_count": 20,
   "metadata": {},
   "outputs": [
    {
     "name": "stdout",
     "output_type": "stream",
     "text": [
      "0\n",
      "161\n",
      "378\n"
     ]
    }
   ],
   "source": [
    "count = 0\n",
    "for i in range(719):\n",
    "    if (sum(image[1100,i,:3]) < 100):\n",
    "        first_black_pixel = i\n",
    "        print(i)\n",
    "        count = i\n",
    "        break\n",
    "block_start = count\n",
    "block_end = count\n",
    "for i in range(count,719):\n",
    "    if (sum(image[1100,i,:3]) > 100):\n",
    "        block_end = i\n",
    "        count = i\n",
    "        print(i)\n",
    "        break\n",
    "distance = 0\n",
    "for i in range(count,719):\n",
    "    if (sum(image[1100,i,:3]) < 100):\n",
    "        distance = i-block_end\n",
    "        break\n",
    "print(distance)\n",
    "    # print(sum(image[1100,i,:3]),end='\\t')\n",
    "    # if(i%10 == 0):\n",
    "        # print()"
   ]
  },
  {
   "cell_type": "code",
   "execution_count": 24,
   "metadata": {},
   "outputs": [
    {
     "name": "stdout",
     "output_type": "stream",
     "text": [
      "255.0\n"
     ]
    }
   ],
   "source": [
    "print(sum(image[400,200,:3])/3)"
   ]
  }
 ],
 "metadata": {
  "interpreter": {
   "hash": "b89b5cfaba6639976dc87ff2fec6d58faec662063367e2c229c520fe71072417"
  },
  "kernelspec": {
   "display_name": "Python 3.10.3 64-bit",
   "language": "python",
   "name": "python3"
  },
  "language_info": {
   "codemirror_mode": {
    "name": "ipython",
    "version": 3
   },
   "file_extension": ".py",
   "mimetype": "text/x-python",
   "name": "python",
   "nbconvert_exporter": "python",
   "pygments_lexer": "ipython3",
   "version": "3.10.3"
  },
  "orig_nbformat": 4
 },
 "nbformat": 4,
 "nbformat_minor": 2
}
