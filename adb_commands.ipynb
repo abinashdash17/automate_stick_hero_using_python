{
 "cells": [
  {
   "cell_type": "code",
   "execution_count": 3,
   "metadata": {},
   "outputs": [],
   "source": [
    "from ppadb.client import Client\n",
    "adb = Client(host='127.0.0.1', port=5037)\n",
    "devices = adb.devices()\n",
    "if (len(devices) == 0 ):\n",
    "    print('no device found')\n",
    "    quit()\n",
    "device = devices[0]"
   ]
  },
  {
   "cell_type": "code",
   "execution_count": 14,
   "metadata": {},
   "outputs": [
    {
     "name": "stdout",
     "output_type": "stream",
     "text": [
      "1520\n",
      "\n"
     ]
    }
   ],
   "source": [
    "width = 720\n",
    "height = 1520\n",
    "def conn_handler(conn):\n",
    "    while True:\n",
    "        data = conn.read(1024)\n",
    "        if not data:\n",
    "            break\n",
    "        screen_info = data.decode('utf-8')\n",
    "        start = screen_info.index(':')+2\n",
    "        end = screen_info.index('x')  \n",
    "        screen_width = screen_info[start:end]\n",
    "        start = screen_info.index('x')+1\n",
    "        screen_height = screen_info[start:]\n",
    "        print(screen_height)\n",
    "    conn.close()\n",
    "device.shell('wm size',conn_handler)"
   ]
  }
 ],
 "metadata": {
  "interpreter": {
   "hash": "b89b5cfaba6639976dc87ff2fec6d58faec662063367e2c229c520fe71072417"
  },
  "kernelspec": {
   "display_name": "Python 3.10.3 64-bit",
   "language": "python",
   "name": "python3"
  },
  "language_info": {
   "codemirror_mode": {
    "name": "ipython",
    "version": 3
   },
   "file_extension": ".py",
   "mimetype": "text/x-python",
   "name": "python",
   "nbconvert_exporter": "python",
   "pygments_lexer": "ipython3",
   "version": "3.10.3"
  },
  "orig_nbformat": 4
 },
 "nbformat": 4,
 "nbformat_minor": 2
}
